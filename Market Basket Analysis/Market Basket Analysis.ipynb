{
 "cells": [
  {
   "cell_type": "markdown",
   "id": "a4aa7361-0232-4080-888c-e471b5867857",
   "metadata": {},
   "source": [
    "# Market Basket Analysis:\n",
    "                       is the process that identifies products frequently purchased together to uncover customer buying patterns. It helps businesses optimize recommendations, cross-selling, and product placement.\n",
    "                       "
   ]
  },
  {
   "cell_type": "code",
   "execution_count": 12,
   "id": "f71e7e3f-cc8f-4708-a8e3-6761c55e3ca5",
   "metadata": {
    "scrolled": true
   },
   "outputs": [],
   "source": [
    "import pandas as pd\n",
    "from mlxtend.frequent_patterns import apriori, association_rules"
   ]
  },
  {
   "cell_type": "code",
   "execution_count": 13,
   "id": "ddb837c8-5bd1-480d-b68e-96644aeff879",
   "metadata": {},
   "outputs": [
    {
     "name": "stderr",
     "output_type": "stream",
     "text": [
      "C:\\Users\\PMLS\\anaconda3\\Lib\\site-packages\\openpyxl\\packaging\\core.py:99: DeprecationWarning: datetime.datetime.utcnow() is deprecated and scheduled for removal in a future version. Use timezone-aware objects to represent datetimes in UTC: datetime.datetime.now(datetime.UTC).\n",
      "  now = datetime.datetime.utcnow()\n",
      "C:\\Users\\PMLS\\anaconda3\\Lib\\site-packages\\openpyxl\\packaging\\core.py:99: DeprecationWarning: datetime.datetime.utcnow() is deprecated and scheduled for removal in a future version. Use timezone-aware objects to represent datetimes in UTC: datetime.datetime.now(datetime.UTC).\n",
      "  now = datetime.datetime.utcnow()\n"
     ]
    },
    {
     "data": {
      "text/html": [
       "<div>\n",
       "<style scoped>\n",
       "    .dataframe tbody tr th:only-of-type {\n",
       "        vertical-align: middle;\n",
       "    }\n",
       "\n",
       "    .dataframe tbody tr th {\n",
       "        vertical-align: top;\n",
       "    }\n",
       "\n",
       "    .dataframe thead th {\n",
       "        text-align: right;\n",
       "    }\n",
       "</style>\n",
       "<table border=\"1\" class=\"dataframe\">\n",
       "  <thead>\n",
       "    <tr style=\"text-align: right;\">\n",
       "      <th></th>\n",
       "      <th>BillNo</th>\n",
       "      <th>Itemname</th>\n",
       "      <th>Quantity</th>\n",
       "      <th>Date</th>\n",
       "      <th>Price</th>\n",
       "      <th>CustomerID</th>\n",
       "      <th>Country</th>\n",
       "    </tr>\n",
       "  </thead>\n",
       "  <tbody>\n",
       "    <tr>\n",
       "      <th>0</th>\n",
       "      <td>536365</td>\n",
       "      <td>WHITE HANGING HEART T-LIGHT HOLDER</td>\n",
       "      <td>6</td>\n",
       "      <td>2010-12-01 08:26:00</td>\n",
       "      <td>2.55</td>\n",
       "      <td>17850.0</td>\n",
       "      <td>United Kingdom</td>\n",
       "    </tr>\n",
       "    <tr>\n",
       "      <th>1</th>\n",
       "      <td>536365</td>\n",
       "      <td>WHITE METAL LANTERN</td>\n",
       "      <td>6</td>\n",
       "      <td>2010-12-01 08:26:00</td>\n",
       "      <td>3.39</td>\n",
       "      <td>17850.0</td>\n",
       "      <td>United Kingdom</td>\n",
       "    </tr>\n",
       "    <tr>\n",
       "      <th>2</th>\n",
       "      <td>536365</td>\n",
       "      <td>CREAM CUPID HEARTS COAT HANGER</td>\n",
       "      <td>8</td>\n",
       "      <td>2010-12-01 08:26:00</td>\n",
       "      <td>2.75</td>\n",
       "      <td>17850.0</td>\n",
       "      <td>United Kingdom</td>\n",
       "    </tr>\n",
       "    <tr>\n",
       "      <th>3</th>\n",
       "      <td>536365</td>\n",
       "      <td>KNITTED UNION FLAG HOT WATER BOTTLE</td>\n",
       "      <td>6</td>\n",
       "      <td>2010-12-01 08:26:00</td>\n",
       "      <td>3.39</td>\n",
       "      <td>17850.0</td>\n",
       "      <td>United Kingdom</td>\n",
       "    </tr>\n",
       "    <tr>\n",
       "      <th>4</th>\n",
       "      <td>536365</td>\n",
       "      <td>RED WOOLLY HOTTIE WHITE HEART.</td>\n",
       "      <td>6</td>\n",
       "      <td>2010-12-01 08:26:00</td>\n",
       "      <td>3.39</td>\n",
       "      <td>17850.0</td>\n",
       "      <td>United Kingdom</td>\n",
       "    </tr>\n",
       "    <tr>\n",
       "      <th>...</th>\n",
       "      <td>...</td>\n",
       "      <td>...</td>\n",
       "      <td>...</td>\n",
       "      <td>...</td>\n",
       "      <td>...</td>\n",
       "      <td>...</td>\n",
       "      <td>...</td>\n",
       "    </tr>\n",
       "    <tr>\n",
       "      <th>3995</th>\n",
       "      <td>536744</td>\n",
       "      <td>CHILDRENS APRON SPACEBOY DESIGN</td>\n",
       "      <td>10</td>\n",
       "      <td>2010-12-02 13:36:00</td>\n",
       "      <td>1.95</td>\n",
       "      <td>14466.0</td>\n",
       "      <td>United Kingdom</td>\n",
       "    </tr>\n",
       "    <tr>\n",
       "      <th>3996</th>\n",
       "      <td>536744</td>\n",
       "      <td>36 FOIL STAR CAKE CASES</td>\n",
       "      <td>6</td>\n",
       "      <td>2010-12-02 13:36:00</td>\n",
       "      <td>2.10</td>\n",
       "      <td>14466.0</td>\n",
       "      <td>United Kingdom</td>\n",
       "    </tr>\n",
       "    <tr>\n",
       "      <th>3997</th>\n",
       "      <td>536744</td>\n",
       "      <td>36 FOIL HEART CAKE CASES</td>\n",
       "      <td>6</td>\n",
       "      <td>2010-12-02 13:36:00</td>\n",
       "      <td>2.10</td>\n",
       "      <td>14466.0</td>\n",
       "      <td>United Kingdom</td>\n",
       "    </tr>\n",
       "    <tr>\n",
       "      <th>3998</th>\n",
       "      <td>536744</td>\n",
       "      <td>VINTAGE UNION JACK APRON</td>\n",
       "      <td>6</td>\n",
       "      <td>2010-12-02 13:36:00</td>\n",
       "      <td>6.95</td>\n",
       "      <td>14466.0</td>\n",
       "      <td>United Kingdom</td>\n",
       "    </tr>\n",
       "    <tr>\n",
       "      <th>3999</th>\n",
       "      <td>536744</td>\n",
       "      <td>REGENCY CAKESTAND 3 TIER</td>\n",
       "      <td>6</td>\n",
       "      <td>2010-12-02 13:36:00</td>\n",
       "      <td>12.75</td>\n",
       "      <td>14466.0</td>\n",
       "      <td>United Kingdom</td>\n",
       "    </tr>\n",
       "  </tbody>\n",
       "</table>\n",
       "<p>2849 rows × 7 columns</p>\n",
       "</div>"
      ],
      "text/plain": [
       "      BillNo                             Itemname  Quantity  \\\n",
       "0     536365   WHITE HANGING HEART T-LIGHT HOLDER         6   \n",
       "1     536365                  WHITE METAL LANTERN         6   \n",
       "2     536365       CREAM CUPID HEARTS COAT HANGER         8   \n",
       "3     536365  KNITTED UNION FLAG HOT WATER BOTTLE         6   \n",
       "4     536365       RED WOOLLY HOTTIE WHITE HEART.         6   \n",
       "...      ...                                  ...       ...   \n",
       "3995  536744      CHILDRENS APRON SPACEBOY DESIGN        10   \n",
       "3996  536744              36 FOIL STAR CAKE CASES         6   \n",
       "3997  536744             36 FOIL HEART CAKE CASES         6   \n",
       "3998  536744             VINTAGE UNION JACK APRON         6   \n",
       "3999  536744             REGENCY CAKESTAND 3 TIER         6   \n",
       "\n",
       "                    Date  Price  CustomerID         Country  \n",
       "0    2010-12-01 08:26:00   2.55     17850.0  United Kingdom  \n",
       "1    2010-12-01 08:26:00   3.39     17850.0  United Kingdom  \n",
       "2    2010-12-01 08:26:00   2.75     17850.0  United Kingdom  \n",
       "3    2010-12-01 08:26:00   3.39     17850.0  United Kingdom  \n",
       "4    2010-12-01 08:26:00   3.39     17850.0  United Kingdom  \n",
       "...                  ...    ...         ...             ...  \n",
       "3995 2010-12-02 13:36:00   1.95     14466.0  United Kingdom  \n",
       "3996 2010-12-02 13:36:00   2.10     14466.0  United Kingdom  \n",
       "3997 2010-12-02 13:36:00   2.10     14466.0  United Kingdom  \n",
       "3998 2010-12-02 13:36:00   6.95     14466.0  United Kingdom  \n",
       "3999 2010-12-02 13:36:00  12.75     14466.0  United Kingdom  \n",
       "\n",
       "[2849 rows x 7 columns]"
      ]
     },
     "execution_count": 13,
     "metadata": {},
     "output_type": "execute_result"
    }
   ],
   "source": [
    "# Load your dataset\n",
    "data = pd.read_excel('Dataset Market Basket Analysis.xlsx')\n",
    "\n",
    "# Clean the dataset by removing rows with missing CustomerID\n",
    "data_cleaned = data.dropna(subset=['CustomerID'])\n",
    "\n",
    "data_cleaned\n",
    "\n"
   ]
  },
  {
   "cell_type": "code",
   "execution_count": 14,
   "id": "54aed229-d0d9-424c-b335-c7f1d3d27337",
   "metadata": {},
   "outputs": [
    {
     "name": "stderr",
     "output_type": "stream",
     "text": [
      "C:\\Users\\PMLS\\AppData\\Local\\Temp\\ipykernel_3096\\586645422.py:10: FutureWarning: DataFrame.applymap has been deprecated. Use DataFrame.map instead.\n",
      "  basket_encoded = basket.applymap(encode_units)\n"
     ]
    }
   ],
   "source": [
    "# Create a basket format by grouping transactions\n",
    "basket = (data_cleaned.groupby(['BillNo', 'Itemname'])['Quantity']\n",
    "          .sum().unstack().reset_index().fillna(0)\n",
    "          .set_index('BillNo'))\n",
    "\n",
    "# Convert quantities to 1s and 0s (binary representation)\n",
    "def encode_units(x):\n",
    "    return 1 if x >= 1 else 0\n",
    "\n",
    "basket_encoded = basket.applymap(encode_units)\n",
    "\n",
    "\n"
   ]
  },
  {
   "cell_type": "code",
   "execution_count": 15,
   "id": "eb8408c8-1801-4794-af43-89bf0e7fb656",
   "metadata": {},
   "outputs": [
    {
     "name": "stderr",
     "output_type": "stream",
     "text": [
      "C:\\Users\\PMLS\\anaconda3\\Lib\\site-packages\\mlxtend\\frequent_patterns\\fpcommon.py:109: DeprecationWarning: DataFrames with non-bool types result in worse computationalperformance and their support might be discontinued in the future.Please use a DataFrame with bool type\n",
      "  warnings.warn(\n"
     ]
    }
   ],
   "source": [
    "# Apply the Apriori algorithm to find frequent itemsets \n",
    "#Minimum support (min_support) is the threshold used in Market Basket Analysis to filter out itemsets that appear too infrequently.\n",
    "frequent_itemsets = apriori(basket_encoded, min_support=0.05, use_colnames=True) "
   ]
  },
  {
   "cell_type": "code",
   "execution_count": 16,
   "id": "369790a1-dd83-4a96-bef7-a646591e3f0b",
   "metadata": {},
   "outputs": [],
   "source": [
    "# Generate association rules with a minimum confidence of 0.7\n",
    "rules = association_rules(frequent_itemsets, metric=\"confidence\", min_threshold=0.7)"
   ]
  },
  {
   "cell_type": "code",
   "execution_count": 17,
   "id": "11dada17-e56e-4048-8285-a05540e220c6",
   "metadata": {},
   "outputs": [
    {
     "name": "stdout",
     "output_type": "stream",
     "text": [
      "                                  antecedents  \\\n",
      "0         (GLASS STAR FROSTED T-LIGHT HOLDER)   \n",
      "1            (CREAM CUPID HEARTS COAT HANGER)   \n",
      "2            (CREAM CUPID HEARTS COAT HANGER)   \n",
      "3            (CREAM CUPID HEARTS COAT HANGER)   \n",
      "4                (RETRO COFFEE MUGS ASSORTED)   \n",
      "...                                       ...   \n",
      "4875884                 (WHITE METAL LANTERN)   \n",
      "4875885  (WOOD 2 DRAWER CABINET WHITE FINISH)   \n",
      "4875886     (VINTAGE BILLBOARD LOVE/HATE MUG)   \n",
      "4875887   (WOOD S/3 CABINET ANT WHITE FINISH)   \n",
      "4875888          (WOODEN FRAME ANTIQUE WHITE)   \n",
      "\n",
      "                                               consequents   support  \\\n",
      "0                         (CREAM CUPID HEARTS COAT HANGER)  0.059140   \n",
      "1                      (GLASS STAR FROSTED T-LIGHT HOLDER)  0.059140   \n",
      "2                    (KNITTED UNION FLAG HOT WATER BOTTLE)  0.059140   \n",
      "3                         (RED WOOLLY HOTTIE WHITE HEART.)  0.059140   \n",
      "4                         (CREAM CUPID HEARTS COAT HANGER)  0.053763   \n",
      "...                                                    ...       ...   \n",
      "4875884  (WOODEN PICTURE FRAME WHITE FINISH, RETRO COFF...  0.053763   \n",
      "4875885  (WOODEN PICTURE FRAME WHITE FINISH, RETRO COFF...  0.053763   \n",
      "4875886  (WOODEN PICTURE FRAME WHITE FINISH, RETRO COFF...  0.053763   \n",
      "4875887  (WOODEN PICTURE FRAME WHITE FINISH, RETRO COFF...  0.053763   \n",
      "4875888  (WOODEN PICTURE FRAME WHITE FINISH, RETRO COFF...  0.053763   \n",
      "\n",
      "         confidence       lift  \n",
      "0          0.846154  12.106509  \n",
      "1          0.846154  12.106509  \n",
      "2          0.846154   9.836538  \n",
      "3          0.846154   7.494505  \n",
      "4          0.769231  11.005917  \n",
      "...             ...        ...  \n",
      "4875884    0.769231  14.307692  \n",
      "4875885    0.714286  13.285714  \n",
      "4875886    0.833333  15.500000  \n",
      "4875887    0.769231  14.307692  \n",
      "4875888    0.714286  13.285714  \n",
      "\n",
      "[4875889 rows x 5 columns]\n"
     ]
    }
   ],
   "source": [
    "# Print relevant columns from the association rules\n",
    "print(rules[['antecedents', 'consequents', 'support', 'confidence', 'lift']])\n"
   ]
  }
 ],
 "metadata": {
  "kernelspec": {
   "display_name": "Python 3 (ipykernel)",
   "language": "python",
   "name": "python3"
  },
  "language_info": {
   "codemirror_mode": {
    "name": "ipython",
    "version": 3
   },
   "file_extension": ".py",
   "mimetype": "text/x-python",
   "name": "python",
   "nbconvert_exporter": "python",
   "pygments_lexer": "ipython3",
   "version": "3.12.4"
  }
 },
 "nbformat": 4,
 "nbformat_minor": 5
}
